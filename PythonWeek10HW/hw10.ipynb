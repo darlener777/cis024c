{
 "cells": [
  {
   "cell_type": "markdown",
   "metadata": {},
   "source": [
    "\n",
    "# CIS024C - Fall 2017 - Thursday 5:30-9:25pm \n",
    "\n",
    "## Homework 10\n",
    "\n",
    "Homework 10 covers object oriented programming in Python\n",
    "\n",
    "The below sites have some interesting and useful information on working with files\n",
    "\n",
    "https://drive.google.com/open?id=1OrcpXEmhvgcJxSlchIBsvmXST0lG_uKx\n",
    "http://www.tutorialspoint.com/python/python_classes_objects.htm\n",
    "\n",
    "You will need to download this notebook and use this as a starting point for your homework. You will just need to fill in the content of each code-block (cell) and execute. Once you have completed all the exercises, you will need to save and upload this to your github repository under a folder called hw10.\n",
    "\n",
    "Note also the exercises build on top of one another so you might be able to do the next exercise if you have not completed the previous exercise.\n",
    "\n",
    "Post any questions you have on our Slack at **cis-024c1.slack.com**\n",
    "\n",
    "** Slides ** for Week 10 can be found at \n",
    "\n",
    "https://docs.google.com/presentation/d/1AigvCKV1yb3PrrcT5xt3IqyAwGpv6IKMNWYUiQ2Oy6k/edit?usp=sharing\n",
    "\n",
    "**Please refer back to hw1 and slack for instructions on how to setup your computer for developing using Python.**"
   ]
  },
  {
   "cell_type": "markdown",
   "metadata": {},
   "source": [
    "### Helpful Jupyter Commands\n",
    "\n",
    "Below are some useful commands to know when using Jupyter\n",
    "\n",
    "1. You can add a new cell by clicking on the \"+\" icon on top.\n",
    "2. You can delete a cell by selecting that cell and clicking on the \"scissors\" icon on top.\n",
    "3. You can execute a cell by either pressing shift+enter or selecting the \"play\" button on top.\n",
    "4. You can create a new file in Jupyter via the File menu->New Notebook option. Make sure to select Python 2 when creating your notebook.\n",
    "5. Also, for your code blocks make sure that Code is selected instead of another option like Markdown.\n",
    "6. Use the Enter key to go to the next line in a cell to enter the next statement.\n",
    "7. You can clear results by clicking on the Cell menu item and selecting Current Output->Clear or All Output->Clear depending on whether you are trying to just clear the output for one cell or for all cells.\n",
    "8. In case your program has crashed for some reason (infinite loop, for example), you can restart your Python session by select Kernel in the menu and selecting Restart.\n"
   ]
  },
  {
   "cell_type": "markdown",
   "metadata": {},
   "source": [
    "#### Check Python Version"
   ]
  },
  {
   "cell_type": "code",
   "execution_count": 5,
   "metadata": {},
   "outputs": [
    {
     "name": "stdout",
     "output_type": "stream",
     "text": [
      "Python 2.7.12 :: Continuum Analytics, Inc.\r\n"
     ]
    }
   ],
   "source": [
    "!python --version"
   ]
  },
  {
   "cell_type": "markdown",
   "metadata": {},
   "source": [
    "#### Sample Exercises with Exception Handling\n",
    "\n",
    "Week 10 Class Work can be found here\n",
    "\n",
    "https://github.com/cis024c/fall2017classwork/blob/master/week10/week10_classwork.ipynb"
   ]
  },
  {
   "cell_type": "markdown",
   "metadata": {},
   "source": [
    "**Exercise 1 - Testing your knowledge of object oriented programming concepts **\n",
    "\n",
    "Answer the below questions\n",
    "\n",
    "1. Why do we need classes?\n",
    "2. What is encapsulation?"
   ]
  },
  {
   "cell_type": "markdown",
   "metadata": {},
   "source": [
    "1. We need classes because it helps use create reusable code that can make our program more efficient. It also saves more time and keeps our code clean by not having repetitive code. \n",
    "2. Encapsulation is when methods and variables is restricted so it can't be changed. "
   ]
  },
  {
   "cell_type": "markdown",
   "metadata": {},
   "source": [
    "** Exercise 2 - Class creation **\n",
    "\n",
    "Create a Python class named **Employee** with the following attributes and methods\n",
    "\n",
    "Data members\n",
    "```\n",
    "1. employeeName  - type string\n",
    "2. employeeAge  - type int\n",
    "3. employeeSalary - type float\n",
    "```\n",
    "\n",
    "Methods:\n",
    "```\n",
    "1. getEmployee - returns employee name\n",
    "2. getEmployeeAge - gets the employee age\n",
    "3. getEmployeeSalary - returns the employee salary\n",
    "4. __init__ - initialize method accepts the name, age and salary of the employee\n",
    "```\n",
    "\n",
    "Create an object of type Employee and initialize with arbitrary values. Invoke the get methods and display the result."
   ]
  },
  {
   "cell_type": "code",
   "execution_count": 12,
   "metadata": {
    "collapsed": true
   },
   "outputs": [],
   "source": [
    "class Employee:\n",
    "    count = 0\n",
    "    \n",
    "    # Initializer method\n",
    "    def __init__(self,employeeName,employeeAge,employeeSalary):\n",
    "        Employee.count += 1 \n",
    "        \n",
    "        # Variables\n",
    "        self.employeeName = employeeName\n",
    "        self.employeeAge = employeeAge\n",
    "        self.employeeSalary = employeeSalary \n",
    "        \n",
    "    def __str__(self):\n",
    "        return \"Employee Name: \" + self.employeeName + \" \" + \"Age: \" + str(self.employeeAge) + \" \" + \"Salary: \" + str(self.employeeSalary)\n",
    "    \n",
    "    def getName(self):\n",
    "        return self.employeeName \n",
    "    \n",
    "    def getAge(self):\n",
    "        return self.employeeAge \n",
    "    \n",
    "    def getSalary(self):\n",
    "        return self.employeeSalary"
   ]
  },
  {
   "cell_type": "code",
   "execution_count": 50,
   "metadata": {},
   "outputs": [
    {
     "name": "stdout",
     "output_type": "stream",
     "text": [
      "Darlene Rodriguez 23 89000.78\n"
     ]
    }
   ],
   "source": [
    "Dee = Employee(\"Darlene Rodriguez\", 23, 89000.78)\n",
    "print(Dee.getName(), Dee.getAge(), Dee.getSalary())"
   ]
  },
  {
   "cell_type": "markdown",
   "metadata": {},
   "source": [
    "#### Exercise 3 - Private members\n",
    "\n",
    "In the above **Employee** class make the employeeName, employeeAge and employeeSalary private so that their access is restricted to only within the class."
   ]
  },
  {
   "cell_type": "code",
   "execution_count": 15,
   "metadata": {
    "collapsed": true
   },
   "outputs": [],
   "source": [
    "class Employee:\n",
    "    count = 0\n",
    "    \n",
    "    # Initializer method\n",
    "    def __init__(self,employeeName,employeeAge,employeeSalary):\n",
    "        Employee.count += 1 \n",
    "        \n",
    "        # Variables\n",
    "        self.__employeeName = employeeName\n",
    "        self.__employeeAge = employeeAge\n",
    "        self.__employeeSalary = employeeSalary \n",
    "        \n",
    "    def __str__(self):\n",
    "        return \"Employee Name: \" + self.__employeeName + \" \" + \"Age: \" + str(self.__employeeAge) + \" \" + \"Salary: \" + str(self.__employeeSalary)\n",
    "    \n",
    "    def getName(self):\n",
    "        return self.__employeeName \n",
    "    \n",
    "    def getAge(self):\n",
    "        return self.__employeeAge \n",
    "    \n",
    "    def getSalary(self):\n",
    "        return self.__employeeSalary "
   ]
  },
  {
   "cell_type": "code",
   "execution_count": 51,
   "metadata": {},
   "outputs": [
    {
     "name": "stdout",
     "output_type": "stream",
     "text": [
      "Employee Name: Nery Chipres Age: 24 Salary: 76890.77\n"
     ]
    }
   ],
   "source": [
    "Nery = Employee(\"Nery Chipres\", 24, 76890.77)\n",
    "print(Nery)"
   ]
  },
  {
   "cell_type": "markdown",
   "metadata": {},
   "source": [
    "#### Exercise 4 - Adding setters and working with a list of Employees\n",
    "\n",
    "In the **Employee** class add the following methods\n",
    "\n",
    "```\n",
    "1. setEmployeeAge - accepts age and sets it in the object\n",
    "2. setEmployeeName - accepts employee name and sets it in the object\n",
    "3. setEmployeeSalary - accepts employee salary and sets it i nthe object\n",
    "```\n",
    "\n",
    "Create a list of employees called employeeList. Initialize the list with three objects of type Employee. Initialize the object with the values \"None\" for employeeName, 0 for employeeAge and 0 for employeeSalary.\n",
    "\n",
    "Loop  through each employee in the employeeList. Each time, request the user to enter the name, age and salary of a different employee. Use the set methods to set the name, age and salary for each employee in the employeeList.\n",
    "\n",
    "Loop through each employee in the employeeList. Display the name, age and salary of each employee."
   ]
  },
  {
   "cell_type": "code",
   "execution_count": 30,
   "metadata": {
    "collapsed": true
   },
   "outputs": [],
   "source": [
    "class Employee:\n",
    "    count = 0\n",
    "    \n",
    "    # Initializer method\n",
    "    def __init__(self,employeeName,employeeAge,employeeSalary):\n",
    "        Employee.count += 1 \n",
    "        \n",
    "        # Variables\n",
    "        self.__employeeName = employeeName\n",
    "        self.__employeeAge = employeeAge\n",
    "        self.__employeeSalary = employeeSalary \n",
    "        \n",
    "    def __str__(self):\n",
    "        return \"Employee Name: \" + self.__employeeName + \" \" + \"Age: \" + str(self.__employeeAge) + \" \" + \"Salary: \" + str(self.__employeeSalary)\n",
    "    \n",
    "    def setName(self, employeeName): \n",
    "        self.employeeName = employeeName \n",
    "        \n",
    "    def setAge(self,employeeAge):\n",
    "        self.employeeAge = employeeAge \n",
    "    \n",
    "    def setSalary(self,employeeSalary):\n",
    "        self.employeeSalary = employeeSalary \n",
    "    \n",
    "    def getName(self):\n",
    "        return self.__employeeName \n",
    "    \n",
    "    def getAge(self):\n",
    "        return self.__employeeAge \n",
    "    \n",
    "    def getSalary(self):\n",
    "        return self.__employeeSalary   "
   ]
  },
  {
   "cell_type": "code",
   "execution_count": 42,
   "metadata": {},
   "outputs": [
    {
     "name": "stdout",
     "output_type": "stream",
     "text": [
      "Enter an employee name: darlene\n",
      "Enter an age: 23\n",
      "enter a salary: 78000\n",
      "Employee Name: darlene Age: 23 Salary: 78000\n",
      "Enter an employee name: nery\n",
      "Enter an age: 24\n",
      "enter a salary: 80000\n",
      "Employee Name: nery Age: 24 Salary: 80000\n",
      "Enter an employee name: patricia\n",
      "Enter an age: 59\n",
      "enter a salary: 68000\n",
      "Employee Name: patricia Age: 59 Salary: 68000\n"
     ]
    }
   ],
   "source": [
    "# Create a list of employees and initialize it with 3 employee objects \n",
    "employeeList = []\n",
    "\n",
    "# Loop through each employee in the employeeList.\n",
    "for employee in range(3):\n",
    "    # Each time, request the user to enter the name, age and salary of a different employee. \n",
    "    temp = Employee(input(\"Enter an employee name: \") ,input(\"Enter an age: \") ,input(\"enter a salary: \")) \n",
    "    employeeList.append(temp)\n",
    "    print(temp)"
   ]
  },
  {
   "cell_type": "markdown",
   "metadata": {},
   "source": [
    "#### Exercise 5 -  Creating a Python calculator class\n",
    "\n",
    "Create a Python class called Calculator. \n",
    "\n",
    "The class has the following data members\n",
    "\n",
    "```\n",
    "1. number1 - type float\n",
    "2. number2 - type float\n",
    "```\n",
    "\n",
    "The class must have the below methods\n",
    "\n",
    "```\n",
    "1. add - adds two numbers and returns the result\n",
    "2. subtract - subtracts the first number from the second number and returns the result\n",
    "3. multiply - multiply two numbers and returns the result\n",
    "4. divide - divide the first number by the second number and returns the result\n",
    "5. __init__ - accepts two numbers and uses those numbers to initialize number1 and number2 respectively\n",
    "```\n",
    "\n",
    "Create an object of the Calculator class. Initialize it with any two arbitrary numbers. Invoke the methods add, subtract, multiple and divide and display the result\n",
    "\n",
    "\n"
   ]
  },
  {
   "cell_type": "code",
   "execution_count": 40,
   "metadata": {
    "collapsed": true
   },
   "outputs": [],
   "source": [
    "class Calculator:\n",
    "    \n",
    "    def __init__(x,y):\n",
    "        self.x = x\n",
    "        self.y = y\n",
    "\n",
    "    def add(x,y):\n",
    "        added = x + y\n",
    "        print(added)\n",
    "        \n",
    "    def subtract(x,y):\n",
    "        sub = x - y\n",
    "        print(sub)\n",
    "\n",
    "    def multiply(x,y):\n",
    "        mult = x * y\n",
    "        print(mult)\n",
    "\n",
    "    def divide(x,y):\n",
    "        div = x / y\n",
    "        print(div)"
   ]
  },
  {
   "cell_type": "code",
   "execution_count": 41,
   "metadata": {},
   "outputs": [
    {
     "name": "stdout",
     "output_type": "stream",
     "text": [
      "-2.5\n",
      "13.5\n",
      "44.0\n",
      "0.6875\n"
     ]
    }
   ],
   "source": [
    "Calculator.subtract(5.5,8)\n",
    "Calculator.add(5.5,8)\n",
    "Calculator.multiply(5.5,8)\n",
    "Calculator.divide(5.5,8)"
   ]
  }
 ],
 "metadata": {
  "kernelspec": {
   "display_name": "Python 3",
   "language": "python",
   "name": "python3"
  },
  "language_info": {
   "codemirror_mode": {
    "name": "ipython",
    "version": 3
   },
   "file_extension": ".py",
   "mimetype": "text/x-python",
   "name": "python",
   "nbconvert_exporter": "python",
   "pygments_lexer": "ipython3",
   "version": "3.6.1"
  }
 },
 "nbformat": 4,
 "nbformat_minor": 2
}

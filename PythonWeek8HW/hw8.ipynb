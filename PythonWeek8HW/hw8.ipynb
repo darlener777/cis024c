{
 "cells": [
  {
   "cell_type": "markdown",
   "metadata": {},
   "source": [
    "\n",
    "# CIS024C - Fall 2017 - Thursday 5:30-9:25pm \n",
    "\n",
    "## Homework 8\n",
    "\n",
    "Homework 8 covers exercises that using external libraries and creating user defined libraries\n",
    "\n",
    "The below sites have some interesting and useful information on working with files\n",
    "\n",
    "https://docs.python.org/2/library/index.html\n",
    "\n",
    "You will need to download this notebook and use this as a starting point for your homework. You will just need to fill in the content of each code-block (cell) and execute. Once you have completed all the exercises, you will need to save and upload this to your github repository under a folder called hw7.\n",
    "\n",
    "Note also the exercises build on top of one another so you might be able to do the next exercise if you have not completed the previous exercise.\n",
    "\n",
    "Post any questions you have on our Slack at **cis-024c1.slack.com**\n",
    "\n",
    "** Slides ** for Week 8 can be found at \n",
    "\n",
    "https://docs.google.com/presentation/d/1HcWIuVciM0_L935Umi5rPgQHJYIv1bNfYnErfOelbtw/edit?usp=sharing\n",
    "\n",
    "**Please refer back to hw1 and slack for instructions on how to setup your computer for developing using Python.**"
   ]
  },
  {
   "cell_type": "markdown",
   "metadata": {},
   "source": [
    "### Helpful Jupyter Commands\n",
    "\n",
    "Below are some useful commands to know when using Jupyter\n",
    "\n",
    "1. You can add a new cell by clicking on the \"+\" icon on top.\n",
    "2. You can delete a cell by selecting that cell and clicking on the \"scissors\" icon on top.\n",
    "3. You can execute a cell by either pressing shift+enter or selecting the \"play\" button on top.\n",
    "4. You can create a new file in Jupyter via the File menu->New Notebook option. Make sure to select Python 2 when creating your notebook.\n",
    "5. Also, for your code blocks make sure that Code is selected instead of another option like Markdown.\n",
    "6. Use the Enter key to go to the next line in a cell to enter the next statement.\n",
    "7. You can clear results by clicking on the Cell menu item and selecting Current Output->Clear or All Output->Clear depending on whether you are trying to just clear the output for one cell or for all cells.\n",
    "8. In case your program has crashed for some reason (infinite loop, for example), you can restart your Python session by select Kernel in the menu and selecting Restart.\n"
   ]
  },
  {
   "cell_type": "markdown",
   "metadata": {},
   "source": [
    "#### Check Python Version"
   ]
  },
  {
   "cell_type": "code",
   "execution_count": 3,
   "metadata": {},
   "outputs": [
    {
     "name": "stdout",
     "output_type": "stream",
     "text": [
      "Python 3.6.1 :: Anaconda 4.4.0 (x86_64)\r\n"
     ]
    }
   ],
   "source": [
    "!python --version"
   ]
  },
  {
   "cell_type": "markdown",
   "metadata": {},
   "source": [
    "#### Sample Exercises with Exception Handling\n",
    "\n",
    "Week 8 Class Work can be found here\n",
    "\n",
    "https://github.com/cis024c/fall2017classwork/tree/master/week8"
   ]
  },
  {
   "cell_type": "markdown",
   "metadata": {},
   "source": [
    "**Exercise 1 - Testing your knowledge of External Libraries **\n",
    "\n",
    "Answer the below questions\n",
    "\n",
    "1. Name two benefits of using external libraries.\n",
    "2. What are the different ways of including an external library in a Python program?"
   ]
  },
  {
   "cell_type": "markdown",
   "metadata": {},
   "source": [
    "1. Can reuse the external libraries in multiple programs with ease. Makes the main program easier to read and consistent\n",
    "\n",
    "2. You can include an external library by making a .py file and including it in the same folder as the main program. Another way is to import it into the code by importing the module or the package"
   ]
  },
  {
   "cell_type": "markdown",
   "metadata": {},
   "source": [
    "#### Exercise 2 -  Using the math library\n",
    "\n",
    "Import the math library in your program and do the following\n",
    "\n",
    "1. Request the user to enter a number between 1 and 10\n",
    "2. Compute the log (math.log) of the number\n",
    "3. Compute teh factorial (math.factorial) of the number\n",
    "4. Compute the square root (math.sqrt) of the number\n",
    "5. Compute the sine (math.sin) of the number\n",
    "\n",
    "Refer to https://docs.python.org/2/library/math.html for more information on the math library\n"
   ]
  },
  {
   "cell_type": "code",
   "execution_count": 20,
   "metadata": {},
   "outputs": [
    {
     "name": "stdout",
     "output_type": "stream",
     "text": [
      "Enter a number between 1 and 105\n",
      "The log is:  1.6094379124341003\n",
      "The factorial is:  120\n",
      "The square root is:  2.23606797749979\n",
      "The sine is:  -0.9589242746631385\n"
     ]
    }
   ],
   "source": [
    "# Import the math library\n",
    "import math\n",
    "\n",
    "# Request the user to enter a number between 1 and 10\n",
    "userInput = int(input(\"Enter a number between 1 and 10\"))\n",
    "\n",
    "# Compute the log(math.log) of the number\n",
    "print(\"The log is: \" , math.log(userInput))\n",
    "\n",
    "# Compute the factorial (math.factorial) of the number\n",
    "print(\"The factorial is: \", math.factorial(userInput))\n",
    "\n",
    "# Compute the square root (math.sqrt) of the number\n",
    "print(\"The square root is: \", math.sqrt(userInput))\n",
    "\n",
    "# Compute the sine (math.sin) of the number\n",
    "print(\"The sine is: \", math.sin(userInput))"
   ]
  },
  {
   "cell_type": "markdown",
   "metadata": {},
   "source": [
    "#### Exercise 3 - Random numbers\n",
    "\n",
    "Generate a list of 10 random numbers between 1 and 100. Use random.sample function. Write a program to then sort the list of numbers in ascending order."
   ]
  },
  {
   "cell_type": "code",
   "execution_count": 10,
   "metadata": {},
   "outputs": [
    {
     "data": {
      "text/plain": [
       "[0, 1, 9, 43, 56, 62, 64, 70, 76, 97]"
      ]
     },
     "execution_count": 10,
     "metadata": {},
     "output_type": "execute_result"
    }
   ],
   "source": [
    "import random\n",
    "# Generate a list of 10 random numbers between 1 and 100 using random.sample\n",
    "# Sort the list of numbers in ascending order \n",
    "sorted(random.sample(range(100), 10))"
   ]
  },
  {
   "cell_type": "markdown",
   "metadata": {},
   "source": [
    "#### Exercise 4 - Creating your own library\n",
    "\n",
    "Create a python module **helperfunctions.py** with the following functions.\n",
    "\n",
    "1. add - returns the sum of two numbers\n",
    "2. diff - returns the difference between two numbers\n",
    "3. product - returns the product of two numbers\n",
    "4. greatest - returns the greatest of two numbers.\n",
    "\n",
    "Import this module in your python program and use the functions your created on any two numbers and print the result.\n",
    "\n",
    "Note: Upload the **helperfunctions.py** module to your github folder along with the notebook file. You can also upload **helperfunctions.py** to Canvas if you are having trouble copying it to Github"
   ]
  },
  {
   "cell_type": "code",
   "execution_count": 2,
   "metadata": {},
   "outputs": [
    {
     "name": "stdout",
     "output_type": "stream",
     "text": [
      "221\n",
      "20\n",
      "156\n",
      "101\n"
     ]
    }
   ],
   "source": [
    "import helperfunctions\n",
    "\n",
    "# Add \n",
    "from helperfunctions import add\n",
    "print(add([101,120]))\n",
    "\n",
    "# Product\n",
    "from helperfunctions import product\n",
    "print(product([5,4]))\n",
    "\n",
    "# Diff\n",
    "from helperfunctions import diff\n",
    "print(diff([546,390]))\n",
    "\n",
    "# Greatest \n",
    "from helperfunctions import greatest\n",
    "print(greatest([101,91]))"
   ]
  },
  {
   "cell_type": "markdown",
   "metadata": {},
   "source": [
    "#### Exercise 5 - Compressing a file using the zlib library\n",
    "\n",
    "Download the story Alice in Wonderland from the link below http://www.gutenberg.org/files/11/11.txt and save it as the file alice.txt\n",
    "\n",
    "Write a python program to open this file in your program. Use the zlib library to compress the contents of the file and write it back to another file call alice_compressed.txt\n",
    "\n",
    "Now, open the file alice_compressed.txt, decompress using the zlib library and display the results on the screen.\n",
    "\n",
    "Refer to Week 8 lecture slides and classwork for information on how to use zlib. \n"
   ]
  },
  {
   "cell_type": "code",
   "execution_count": 2,
   "metadata": {
    "scrolled": true
   },
   "outputs": [],
   "source": [
    "import zlib\n",
    "\n",
    "# Open alice.txt file \n",
    "readFile = open(\"alice.txt\")\n",
    "text = readFile.read()\n",
    "\n",
    "# Use the zlib library to compress the contents of the file \n",
    "t = zlib.compress(text.encode(\"utf-8\"))\n",
    "\n",
    "# write it back to another file call alice_compressed.txt\n",
    "writeFile = open(\"alice_compressed.txt\", \"ab\")\n",
    "writeFile.write(t)\n",
    "\n",
    "# Close files \n",
    "readFile.close()\n",
    "writeFile.close()"
   ]
  },
  {
   "cell_type": "markdown",
   "metadata": {},
   "source": [
    "## OPTIONAL EXERCISES\n",
    "\n",
    "Below is a set of optional exercises. These will not be graded but the solutions will be posted. I would strongly encourage you to try these out if you are done with the mandatory homework exercises to improve your understanding of python."
   ]
  },
  {
   "cell_type": "markdown",
   "metadata": {},
   "source": [
    "#### Exercise 6\n",
    "\n",
    "Recall the similarity function to compute the edit distance in homework 7 and classwork 7. \n",
    "\n",
    "Create a Python module using the similarity function. Write a Python program to invoke the similarity function on any word entered by the user."
   ]
  },
  {
   "cell_type": "code",
   "execution_count": null,
   "metadata": {
    "collapsed": true
   },
   "outputs": [],
   "source": [
    "### YOUR CODE GOES BELOW\n",
    "\n",
    "\n",
    "    \n",
    "### END CODE"
   ]
  },
  {
   "cell_type": "markdown",
   "metadata": {},
   "source": [
    "#### Exercise 7\n",
    "\n",
    "Write a Python program using the urrlib2 library to print all the URLs present on the website http://www.cnn.com\n",
    "\n",
    "Note that you will need to search for href tags in order to locate links. An easier option is to use an HTML parser module to parse the website and then you can query it for a set of links. \n",
    "\n"
   ]
  },
  {
   "cell_type": "code",
   "execution_count": 55,
   "metadata": {
    "collapsed": true
   },
   "outputs": [],
   "source": [
    "### YOUR CODE GOES BELOW\n",
    "\n",
    "\n",
    "    \n",
    "### END CODE"
   ]
  },
  {
   "cell_type": "markdown",
   "metadata": {},
   "source": [
    "#### Exercise 8\n",
    "\n",
    "Write a Python program to use the Twitter library tweepy to retrieve a set of tweets from the internet.\n",
    "\n",
    "More information on how to do this can be found here\n",
    "\n",
    "http://docs.tweepy.org/en/v3.5.0/"
   ]
  },
  {
   "cell_type": "code",
   "execution_count": 7,
   "metadata": {
    "collapsed": true
   },
   "outputs": [],
   "source": [
    "### YOUR CODE GOES BELOW\n",
    "\n",
    "\n",
    "### END CODE"
   ]
  }
 ],
 "metadata": {
  "kernelspec": {
   "display_name": "Python 3",
   "language": "python",
   "name": "python3"
  },
  "language_info": {
   "codemirror_mode": {
    "name": "ipython",
    "version": 3
   },
   "file_extension": ".py",
   "mimetype": "text/x-python",
   "name": "python",
   "nbconvert_exporter": "python",
   "pygments_lexer": "ipython3",
   "version": "3.6.1"
  }
 },
 "nbformat": 4,
 "nbformat_minor": 2
}

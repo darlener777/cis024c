{
 "cells": [
  {
   "cell_type": "code",
   "execution_count": 2,
   "metadata": {},
   "outputs": [
    {
     "name": "stdout",
     "output_type": "stream",
     "text": [
      "5 10\n"
     ]
    }
   ],
   "source": [
    "x = 5\n",
    "y = 10\n",
    "\n",
    "print (x,y)"
   ]
  },
  {
   "cell_type": "code",
   "execution_count": 3,
   "metadata": {},
   "outputs": [
    {
     "name": "stdout",
     "output_type": "stream",
     "text": [
      "30\n"
     ]
    }
   ],
   "source": [
    "x = 10\n",
    "y = 20\n",
    "z = x + y \n",
    "\n",
    "print (z) "
   ]
  },
  {
   "cell_type": "code",
   "execution_count": 4,
   "metadata": {},
   "outputs": [
    {
     "name": "stdout",
     "output_type": "stream",
     "text": [
      "11\n"
     ]
    }
   ],
   "source": [
    "a = 5 \n",
    "b = 6\n",
    "c = a + b \n",
    "\n",
    "print (c)"
   ]
  },
  {
   "cell_type": "code",
   "execution_count": 5,
   "metadata": {},
   "outputs": [
    {
     "name": "stdout",
     "output_type": "stream",
     "text": [
      "Hello Oscar\n"
     ]
    }
   ],
   "source": [
    "Greeting = \"Hello \"\n",
    "Person = \"Oscar\"\n",
    "\n",
    "personalGreeting = Greeting + Person\n",
    "\n",
    "print (personalGreeting)"
   ]
  },
  {
   "cell_type": "code",
   "execution_count": 6,
   "metadata": {},
   "outputs": [
    {
     "name": "stdout",
     "output_type": "stream",
     "text": [
      "Enter your age: 35\n"
     ]
    }
   ],
   "source": [
    "userAge = int(input('Enter your age: '))"
   ]
  },
  {
   "cell_type": "code",
   "execution_count": 7,
   "metadata": {},
   "outputs": [
    {
     "name": "stdout",
     "output_type": "stream",
     "text": [
      "Enter your age: 35\n"
     ]
    }
   ],
   "source": [
    "age = int(input('Enter your age: '))\n",
    "age = userAge"
   ]
  },
  {
   "cell_type": "code",
   "execution_count": 8,
   "metadata": {},
   "outputs": [
    {
     "name": "stdout",
     "output_type": "stream",
     "text": [
      "You are of legal age\n"
     ]
    }
   ],
   "source": [
    "if age >= 35:\n",
    "    print(\"You are of legal age\")"
   ]
  },
  {
   "cell_type": "code",
   "execution_count": 9,
   "metadata": {},
   "outputs": [
    {
     "name": "stdout",
     "output_type": "stream",
     "text": [
      "The age is not greater than 35\n"
     ]
    }
   ],
   "source": [
    "if age > 35:\n",
    "    print(\"The age is greater than 35\")\n",
    "else:\n",
    "    print(\"The age is not greater than 35\")"
   ]
  },
  {
   "cell_type": "code",
   "execution_count": 11,
   "metadata": {},
   "outputs": [
    {
     "name": "stdout",
     "output_type": "stream",
     "text": [
      "2.5 2 2\n"
     ]
    }
   ],
   "source": [
    "number = 10\n",
    "result = number/4\n",
    "result2 = number//4\n",
    "result3 = number%4\n",
    "print (result, result2, result3)"
   ]
  },
  {
   "cell_type": "code",
   "execution_count": 12,
   "metadata": {},
   "outputs": [
    {
     "name": "stdout",
     "output_type": "stream",
     "text": [
      "25.3375 25.0 1.3499999999999943\n"
     ]
    }
   ],
   "source": [
    "floatNumber = 101.35\n",
    "result = floatNumber / 4\n",
    "result2 = floatNumber // 4\n",
    "result3 = floatNumber % 4 \n",
    "print (result, result2, result3)  "
   ]
  },
  {
   "cell_type": "code",
   "execution_count": 19,
   "metadata": {},
   "outputs": [
    {
     "name": "stdout",
     "output_type": "stream",
     "text": [
      "False\n",
      "False\n"
     ]
    }
   ],
   "source": [
    "myAge = 21\n",
    "yourAge = 25\n",
    "result = myAge == yourAge\n",
    "print (result)\n",
    "\n",
    "hisAge = 25\n",
    "result = myAge == hisAge\n",
    "print (result)"
   ]
  }
 ],
 "metadata": {
  "kernelspec": {
   "display_name": "Python 3",
   "language": "python",
   "name": "python3"
  },
  "language_info": {
   "codemirror_mode": {
    "name": "ipython",
    "version": 3
   },
   "file_extension": ".py",
   "mimetype": "text/x-python",
   "name": "python",
   "nbconvert_exporter": "python",
   "pygments_lexer": "ipython3",
   "version": "3.6.1"
  }
 },
 "nbformat": 4,
 "nbformat_minor": 2
}
